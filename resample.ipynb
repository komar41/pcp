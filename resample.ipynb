{
 "cells": [
  {
   "cell_type": "code",
   "execution_count": 2,
   "metadata": {},
   "outputs": [
    {
     "name": "stdout",
     "output_type": "stream",
     "text": [
      "                                                name  \\\n",
      "0  Formulated bar, MARS SNACKFOOD US, SNICKERS Ma...   \n",
      "1                         DENNY'S, top sirloin steak   \n",
      "2  Chicken, broilers or fryers, breast, meat and ...   \n",
      "3          Soy sauce made from soy and wheat (shoyu)   \n",
      "4                                 Hummus, commercial   \n",
      "\n",
      "                         group  protein (g)  calcium (g)  sodium (g)  \\\n",
      "0                       Snacks        22.50        0.000       0.318   \n",
      "1             Restaurant Foods        28.90        0.006       0.349   \n",
      "2             Poultry Products        24.84        0.020       0.275   \n",
      "3  Legumes and Legume Products         6.28        0.019       5.637   \n",
      "4  Legumes and Legume Products         7.90        0.038       0.379   \n",
      "\n",
      "   fiber (g)  vitaminc (g)  potassium (g)  carbohydrate (g)  sugars (g)  \\\n",
      "0       11.0        0.1764          0.000             54.30       26.26   \n",
      "1        NaN        0.0000          0.341              0.14         NaN   \n",
      "2        0.3        0.0000          0.201              8.99         NaN   \n",
      "3        0.8        0.0000          0.217              7.61        1.70   \n",
      "4        6.0        0.0000          0.228             14.29         NaN   \n",
      "\n",
      "   fat (g)  water (g)  calories  saturated (g)  monounsat (g)  polyunsat (g)  \\\n",
      "0     7.87       9.50     378.0          4.481            NaN            NaN   \n",
      "1     7.34      61.82     182.0          2.595          2.840          0.672   \n",
      "2    13.20      51.64     260.0          3.520          5.460          3.080   \n",
      "3     0.04      70.77      53.0          0.005          0.006          0.019   \n",
      "4     9.60      66.59     166.0          1.437          4.039          3.613   \n",
      "\n",
      "      id  \n",
      "0  34751  \n",
      "1  35084  \n",
      "2  28341  \n",
      "3  32871  \n",
      "4  32707  \n"
     ]
    }
   ],
   "source": [
    "import pandas as pd\n",
    "import numpy as np\n",
    "\n",
    "# Load the CSV file\n",
    "file_path = \"nutrients.csv\"  # Update with your actual file path\n",
    "df = pd.read_csv(file_path)\n",
    "\n",
    "# Triple the dataset by sampling with replacement\n",
    "df_tripled = df.sample(n=len(df) * 3, replace=True, random_state=42).reset_index(drop=True)\n",
    "\n",
    "# Save the new dataset\n",
    "df_tripled.to_csv(\"tripled_dataset.csv\", index=False)\n",
    "\n",
    "# Display the first few rows to check\n",
    "print(df_tripled.head())"
   ]
  },
  {
   "cell_type": "code",
   "execution_count": null,
   "metadata": {},
   "outputs": [],
   "source": []
  }
 ],
 "metadata": {
  "kernelspec": {
   "display_name": "base",
   "language": "python",
   "name": "python3"
  },
  "language_info": {
   "codemirror_mode": {
    "name": "ipython",
    "version": 3
   },
   "file_extension": ".py",
   "mimetype": "text/x-python",
   "name": "python",
   "nbconvert_exporter": "python",
   "pygments_lexer": "ipython3",
   "version": "3.8.18"
  }
 },
 "nbformat": 4,
 "nbformat_minor": 2
}
